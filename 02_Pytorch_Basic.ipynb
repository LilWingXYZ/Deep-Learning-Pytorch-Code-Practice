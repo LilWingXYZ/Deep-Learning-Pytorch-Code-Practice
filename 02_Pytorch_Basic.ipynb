{
  "nbformat": 4,
  "nbformat_minor": 0,
  "metadata": {
    "colab": {
      "name": "Pytorch_Basic.ipynb",
      "provenance": [],
      "collapsed_sections": [],
      "authorship_tag": "ABX9TyOmvveEX7Mc3HVLllsUtC9V",
      "include_colab_link": true
    },
    "kernelspec": {
      "name": "python3",
      "display_name": "Python 3"
    },
    "accelerator": "GPU"
  },
  "cells": [
    {
      "cell_type": "markdown",
      "metadata": {
        "id": "view-in-github",
        "colab_type": "text"
      },
      "source": [
        "<a href=\"https://colab.research.google.com/github/OUCTheoryGroup/colab_demo/blob/master/02_Pytorch_Basic.ipynb\" target=\"_parent\"><img src=\"https://colab.research.google.com/assets/colab-badge.svg\" alt=\"Open In Colab\"/></a>"
      ]
    },
    {
      "cell_type": "markdown",
      "metadata": {
        "id": "83OFnkrjFZx1",
        "colab_type": "text"
      },
      "source": [
        "## 什么是 PyTorch ?\n",
        "\n",
        "PyTorch是一个python库，它主要提供了两个高级功能：\n",
        "\n",
        "- GPU加速的张量计算\n",
        "- 构建在反向自动求导系统上的深度神经网络\n",
        "\n",
        "## 1. 定义数据\n",
        "\n",
        "一般定义数据使用torch.Tensor  ， tensor的意思是张量，是数字各种形式的总称"
      ]
    },
    {
      "cell_type": "code",
      "metadata": {
        "id": "DWkz2K43FW_d",
        "colab_type": "code",
        "outputId": "e526628b-74d1-413d-f42b-3c3dfdb6731d",
        "colab": {
          "base_uri": "https://localhost:8080/",
          "height": 35
        }
      },
      "source": [
        "import torch\n",
        "\n",
        "# 可以是一个数\n",
        "x = torch.tensor(666)\n",
        "print(x)"
      ],
      "execution_count": 0,
      "outputs": [
        {
          "output_type": "stream",
          "text": [
            "tensor(666)\n"
          ],
          "name": "stdout"
        }
      ]
    },
    {
      "cell_type": "code",
      "metadata": {
        "id": "p4qRIFWARKjY",
        "colab_type": "code",
        "outputId": "526bf9ad-bc1c-4cfb-d7d5-2ac1a9065b08",
        "colab": {
          "base_uri": "https://localhost:8080/",
          "height": 35
        }
      },
      "source": [
        "# 可以是一维数组（向量）\n",
        "x = torch.tensor([1,2,3,4,5,6])\n",
        "print(x)"
      ],
      "execution_count": 0,
      "outputs": [
        {
          "output_type": "stream",
          "text": [
            "tensor([1, 2, 3, 4, 5, 6])\n"
          ],
          "name": "stdout"
        }
      ]
    },
    {
      "cell_type": "code",
      "metadata": {
        "id": "1a4xABr4RM95",
        "colab_type": "code",
        "outputId": "ce50e8ae-e8fd-42b8-f991-477945e575ee",
        "colab": {
          "base_uri": "https://localhost:8080/",
          "height": 52
        }
      },
      "source": [
        "# 可以是二维数组（矩阵）\n",
        "x = torch.ones(2,3)\n",
        "print(x)\n"
      ],
      "execution_count": 0,
      "outputs": [
        {
          "output_type": "stream",
          "text": [
            "tensor([[1., 1., 1.],\n",
            "        [1., 1., 1.]])\n"
          ],
          "name": "stdout"
        }
      ]
    },
    {
      "cell_type": "code",
      "metadata": {
        "id": "bh5mcR_fRN_D",
        "colab_type": "code",
        "outputId": "898f392c-9ad9-40c8-f20f-0058c594799e",
        "colab": {
          "base_uri": "https://localhost:8080/",
          "height": 138
        }
      },
      "source": [
        "# 可以是任意维度的数组（张量）\n",
        "x = torch.ones(2,3,4)\n",
        "print(x)"
      ],
      "execution_count": 0,
      "outputs": [
        {
          "output_type": "stream",
          "text": [
            "tensor([[[1., 1., 1., 1.],\n",
            "         [1., 1., 1., 1.],\n",
            "         [1., 1., 1., 1.]],\n",
            "\n",
            "        [[1., 1., 1., 1.],\n",
            "         [1., 1., 1., 1.],\n",
            "         [1., 1., 1., 1.]]])\n"
          ],
          "name": "stdout"
        }
      ]
    },
    {
      "cell_type": "markdown",
      "metadata": {
        "id": "rL_CHhxMJHLC",
        "colab_type": "text"
      },
      "source": [
        "Tensor支持各种各样类型的数据，包括：\n",
        "\n",
        "torch.float32, torch.float64, torch.float16, torch.uint8, torch.int8, torch.int16, torch.int32, torch.int64 。这里不过多描述。\n",
        "\n",
        "创建Tensor有多种方法，包括：ones, zeros, eye, arange, linspace, rand, randn, normal, uniform, randperm, 使用的时候可以在线搜，下面主要通过代码展示。"
      ]
    },
    {
      "cell_type": "code",
      "metadata": {
        "id": "L1tPfIm8KHR6",
        "colab_type": "code",
        "outputId": "7e75d425-b545-49e7-e9fa-fc52838d08e4",
        "colab": {
          "base_uri": "https://localhost:8080/",
          "height": 104
        }
      },
      "source": [
        "# 创建一个空张量\n",
        "x = torch.empty(5,3)\n",
        "print(x)"
      ],
      "execution_count": 0,
      "outputs": [
        {
          "output_type": "stream",
          "text": [
            "tensor([[1.4178e-36, 0.0000e+00, 4.4842e-44],\n",
            "        [0.0000e+00,        nan, 0.0000e+00],\n",
            "        [1.0979e-05, 4.2008e-05, 2.1296e+23],\n",
            "        [1.0386e+21, 4.4160e-05, 1.0742e-05],\n",
            "        [2.6963e+23, 4.2421e-08, 3.4548e-09]])\n"
          ],
          "name": "stdout"
        }
      ]
    },
    {
      "cell_type": "code",
      "metadata": {
        "id": "j_tf1_ChRTXt",
        "colab_type": "code",
        "outputId": "c5ee1e85-f769-4dec-a886-40bad7c8e31b",
        "colab": {
          "base_uri": "https://localhost:8080/",
          "height": 104
        }
      },
      "source": [
        "# 创建一个随机初始化的张量\n",
        "x = torch.rand(5,3)\n",
        "print(x)"
      ],
      "execution_count": 0,
      "outputs": [
        {
          "output_type": "stream",
          "text": [
            "tensor([[0.3077, 0.0347, 0.3033],\n",
            "        [0.9099, 0.2716, 0.4310],\n",
            "        [0.8286, 0.3317, 0.0536],\n",
            "        [0.9529, 0.4905, 0.1403],\n",
            "        [0.6899, 0.8349, 0.4015]])\n"
          ],
          "name": "stdout"
        }
      ]
    },
    {
      "cell_type": "code",
      "metadata": {
        "id": "ikJVEFunRWIS",
        "colab_type": "code",
        "outputId": "1b6ab71d-78c4-489b-d185-fdc3b4c108d4",
        "colab": {
          "base_uri": "https://localhost:8080/",
          "height": 104
        }
      },
      "source": [
        "# 创建一个全0的张量，里面的数据类型为 long\n",
        "x = torch.zeros(5,3,dtype=torch.long)\n",
        "print(x)"
      ],
      "execution_count": 0,
      "outputs": [
        {
          "output_type": "stream",
          "text": [
            "tensor([[0, 0, 0],\n",
            "        [0, 0, 0],\n",
            "        [0, 0, 0],\n",
            "        [0, 0, 0],\n",
            "        [0, 0, 0]])\n"
          ],
          "name": "stdout"
        }
      ]
    },
    {
      "cell_type": "code",
      "metadata": {
        "id": "Q3VVC7-hRXTa",
        "colab_type": "code",
        "outputId": "cf3aa866-a793-4a8e-8ca4-522038dbb96e",
        "colab": {
          "base_uri": "https://localhost:8080/",
          "height": 104
        }
      },
      "source": [
        "# 基于现有的tensor，创建一个新tensor，\n",
        "# 从而可以利用原有的tensor的dtype，device，size之类的属性信息\n",
        "y = x.new_ones(5,3)   #tensor new_* 方法，利用原来tensor的dtype，device\n",
        "print(y)"
      ],
      "execution_count": 0,
      "outputs": [
        {
          "output_type": "stream",
          "text": [
            "tensor([[1, 1, 1],\n",
            "        [1, 1, 1],\n",
            "        [1, 1, 1],\n",
            "        [1, 1, 1],\n",
            "        [1, 1, 1]])\n"
          ],
          "name": "stdout"
        }
      ]
    },
    {
      "cell_type": "code",
      "metadata": {
        "id": "nswc8uK0RYZ5",
        "colab_type": "code",
        "outputId": "2c428464-94d5-4840-fa0f-a1cc75afdde6",
        "colab": {
          "base_uri": "https://localhost:8080/",
          "height": 104
        }
      },
      "source": [
        "z = torch.randn_like(x, dtype=torch.float)    # 利用原来的tensor的大小，但是重新定义了dtype\n",
        "print(z)"
      ],
      "execution_count": 0,
      "outputs": [
        {
          "output_type": "stream",
          "text": [
            "tensor([[ 1.4363, -2.1019,  0.4444],\n",
            "        [-0.4706,  0.7441, -0.4631],\n",
            "        [-1.3860, -1.8919,  1.8794],\n",
            "        [ 1.8617,  0.6469,  0.5235],\n",
            "        [-0.1271, -1.0755,  0.0359]])\n"
          ],
          "name": "stdout"
        }
      ]
    },
    {
      "cell_type": "markdown",
      "metadata": {
        "id": "O-ry_RGyLRJB",
        "colab_type": "text"
      },
      "source": [
        "## 2. 定义操作\n",
        "\n",
        "凡是用Tensor进行各种运算的，都是Function\n",
        "\n",
        "最终，还是需要用Tensor来进行计算的，计算无非是\n",
        "- 基本运算，加减乘除，求幂求余\n",
        "- 布尔运算，大于小于，最大最小\n",
        "- 线性运算，矩阵乘法，求模，求行列式\n",
        "\n",
        "**基本运算包括：** abs/sqrt/div/exp/fmod/pow ，及一些三角函数 cos/ sin/ asin/ atan2/ cosh，及 ceil/round/floor/trunc 等具体在使用的时候可以百度一下\n",
        "\n",
        "**布尔运算包括：** gt/lt/ge/le/eq/ne，topk, sort, max/min\n",
        "\n",
        "**线性计算包括：** trace, diag, mm/bmm，t，dot/cross，inverse，svd 等\n",
        "\n",
        "不再多说，需要使用的时候百度一下即可。下面用具体的代码案例来学习。"
      ]
    },
    {
      "cell_type": "code",
      "metadata": {
        "id": "QcApnoZ4N4a4",
        "colab_type": "code",
        "outputId": "fd0cee26-fd4f-4bf8-da49-6a7054f070d3",
        "colab": {
          "base_uri": "https://localhost:8080/",
          "height": 35
        }
      },
      "source": [
        "# 创建一个 2x4 的tensor\n",
        "m = torch.Tensor([[2, 5, 3, 7],\n",
        "                  [4, 2, 1, 9]])\n",
        "\n",
        "print(m.size(0), m.size(1), m.size(), sep=' -- ')"
      ],
      "execution_count": 0,
      "outputs": [
        {
          "output_type": "stream",
          "text": [
            "2 -- 4 -- torch.Size([2, 4])\n"
          ],
          "name": "stdout"
        }
      ]
    },
    {
      "cell_type": "code",
      "metadata": {
        "id": "wq-JJbKBRem1",
        "colab_type": "code",
        "outputId": "49a1f1cf-9084-4197-d8e7-88a27c398359",
        "colab": {
          "base_uri": "https://localhost:8080/",
          "height": 35
        }
      },
      "source": [
        "# 返回 m 中元素的数量\n",
        "print(m.numel())"
      ],
      "execution_count": 0,
      "outputs": [
        {
          "output_type": "stream",
          "text": [
            "8\n"
          ],
          "name": "stdout"
        }
      ]
    },
    {
      "cell_type": "code",
      "metadata": {
        "id": "x2CtLybORhuj",
        "colab_type": "code",
        "outputId": "8111e9c9-22c5-40c9-8ecd-f70c4034fb92",
        "colab": {
          "base_uri": "https://localhost:8080/",
          "height": 35
        }
      },
      "source": [
        "# 返回 第0行，第2列的数\n",
        "print(m[0][2])"
      ],
      "execution_count": 0,
      "outputs": [
        {
          "output_type": "stream",
          "text": [
            "tensor(3.)\n"
          ],
          "name": "stdout"
        }
      ]
    },
    {
      "cell_type": "code",
      "metadata": {
        "id": "QR-157ITRiuW",
        "colab_type": "code",
        "outputId": "447c0cf8-9f2b-40ad-bc47-a162953b8a97",
        "colab": {
          "base_uri": "https://localhost:8080/",
          "height": 35
        }
      },
      "source": [
        "# 返回 第1列的全部元素\n",
        "print(m[:, 1])"
      ],
      "execution_count": 0,
      "outputs": [
        {
          "output_type": "stream",
          "text": [
            "tensor([5., 2.])\n"
          ],
          "name": "stdout"
        }
      ]
    },
    {
      "cell_type": "code",
      "metadata": {
        "id": "MOjFlSIzRji_",
        "colab_type": "code",
        "outputId": "7e1765e9-2f05-49a4-c821-8769fe979ba6",
        "colab": {
          "base_uri": "https://localhost:8080/",
          "height": 35
        }
      },
      "source": [
        "# 返回 第0行的全部元素\n",
        "print(m[0, :])"
      ],
      "execution_count": 0,
      "outputs": [
        {
          "output_type": "stream",
          "text": [
            "tensor([2., 5., 3., 7.])\n"
          ],
          "name": "stdout"
        }
      ]
    },
    {
      "cell_type": "code",
      "metadata": {
        "id": "CYK1sia-P7RC",
        "colab_type": "code",
        "outputId": "2fdf0326-43ec-4f53-c7de-0d97c881b95b",
        "colab": {
          "base_uri": "https://localhost:8080/",
          "height": 35
        }
      },
      "source": [
        "# Create tensor of numbers from 1 to 5\n",
        "# 注意这里结果是1到4，没有5\n",
        "v = torch.arange(1, 5)\n",
        "print(v)"
      ],
      "execution_count": 0,
      "outputs": [
        {
          "output_type": "stream",
          "text": [
            "tensor([1, 2, 3, 4])\n"
          ],
          "name": "stdout"
        }
      ]
    },
    {
      "cell_type": "code",
      "metadata": {
        "id": "LN0zTwWNQL70",
        "colab_type": "code",
        "outputId": "f6cfa258-7e84-4a5c-9171-6a2247fea3ff",
        "colab": {
          "base_uri": "https://localhost:8080/",
          "height": 35
        }
      },
      "source": [
        "# Scalar product\n",
        "m @ v"
      ],
      "execution_count": 0,
      "outputs": [
        {
          "output_type": "execute_result",
          "data": {
            "text/plain": [
              "tensor([49., 47.])"
            ]
          },
          "metadata": {
            "tags": []
          },
          "execution_count": 15
        }
      ]
    },
    {
      "cell_type": "code",
      "metadata": {
        "id": "CDzM9atDQXqo",
        "colab_type": "code",
        "outputId": "e70722c5-cd83-42bf-dbe6-4b895a070a49",
        "colab": {
          "base_uri": "https://localhost:8080/",
          "height": 35
        }
      },
      "source": [
        "# Calculated by 1*2 + 2*5 + 3*3 + 4*7\n",
        "m[[0], :] @ v"
      ],
      "execution_count": 0,
      "outputs": [
        {
          "output_type": "execute_result",
          "data": {
            "text/plain": [
              "tensor([49.])"
            ]
          },
          "metadata": {
            "tags": []
          },
          "execution_count": 16
        }
      ]
    },
    {
      "cell_type": "code",
      "metadata": {
        "id": "cRqlJdm3QeYq",
        "colab_type": "code",
        "outputId": "e8b501dd-d231-4b6c-d18f-ce799131cb7f",
        "colab": {
          "base_uri": "https://localhost:8080/",
          "height": 52
        }
      },
      "source": [
        "# Add a random tensor of size 2x4 to m\n",
        "m + torch.rand(2, 4)"
      ],
      "execution_count": 0,
      "outputs": [
        {
          "output_type": "execute_result",
          "data": {
            "text/plain": [
              "tensor([[2.2495, 5.7699, 3.3819, 7.0271],\n",
              "        [4.4853, 2.1948, 1.8039, 9.2615]])"
            ]
          },
          "metadata": {
            "tags": []
          },
          "execution_count": 17
        }
      ]
    },
    {
      "cell_type": "code",
      "metadata": {
        "id": "Zle6ULwDQoMF",
        "colab_type": "code",
        "outputId": "30cc69f7-d218-4ea2-af54-31f2164770bc",
        "colab": {
          "base_uri": "https://localhost:8080/",
          "height": 155
        }
      },
      "source": [
        "# 转置，由 2x4 变为 4x2\n",
        "print(m.t())\n",
        "\n",
        "# 使用 transpose 也可以达到相同的效果，具体使用方法可以百度\n",
        "print(m.transpose(0, 1))"
      ],
      "execution_count": 0,
      "outputs": [
        {
          "output_type": "stream",
          "text": [
            "tensor([[2., 4.],\n",
            "        [5., 2.],\n",
            "        [3., 1.],\n",
            "        [7., 9.]])\n",
            "tensor([[2., 4.],\n",
            "        [5., 2.],\n",
            "        [3., 1.],\n",
            "        [7., 9.]])\n"
          ],
          "name": "stdout"
        }
      ]
    },
    {
      "cell_type": "code",
      "metadata": {
        "id": "XqdglZAoR0AZ",
        "colab_type": "code",
        "outputId": "2b67ec05-e6f8-4932-e28e-9310586649f5",
        "colab": {
          "base_uri": "https://localhost:8080/",
          "height": 69
        }
      },
      "source": [
        "# returns a 1D tensor of steps equally spaced points between start=3, end=8 and steps=20\n",
        "torch.linspace(3, 8, 20)"
      ],
      "execution_count": 0,
      "outputs": [
        {
          "output_type": "execute_result",
          "data": {
            "text/plain": [
              "tensor([3.0000, 3.2632, 3.5263, 3.7895, 4.0526, 4.3158, 4.5789, 4.8421, 5.1053,\n",
              "        5.3684, 5.6316, 5.8947, 6.1579, 6.4211, 6.6842, 6.9474, 7.2105, 7.4737,\n",
              "        7.7368, 8.0000])"
            ]
          },
          "metadata": {
            "tags": []
          },
          "execution_count": 37
        }
      ]
    },
    {
      "cell_type": "code",
      "metadata": {
        "id": "eAu8SIxEShpd",
        "colab_type": "code",
        "outputId": "95d24488-31a5-43ad-95d9-60aba137a9a8",
        "colab": {
          "base_uri": "https://localhost:8080/",
          "height": 588
        }
      },
      "source": [
        "from matplotlib import pyplot as plt\n",
        "\n",
        "# matlabplotlib 只能显示numpy类型的数据，下面展示了转换数据类型，然后显示\n",
        "# 注意 randn 是生成均值为 0， 方差为 1 的随机数\n",
        "# 下面是生成 1000 个随机数，并按照 100 个 bin 统计直方图\n",
        "plt.hist(torch.randn(1000).numpy(), 100);"
      ],
      "execution_count": 0,
      "outputs": [
        {
          "output_type": "display_data",
          "data": {
            "image/png": "[encoded data removed]",
            "text/plain": [
              "<Figure size 720x720 with 1 Axes>"
            ]
          },
          "metadata": {
            "tags": []
          }
        }
      ]
    },
    {
      "cell_type": "code",
      "metadata": {
        "id": "Ub2RwbyXS7Qo",
        "colab_type": "code",
        "outputId": "a20926d3-6d7d-40b6-a99a-ff64babacbec",
        "colab": {
          "base_uri": "https://localhost:8080/",
          "height": 605
        }
      },
      "source": [
        "# 当数据非常非常多的时候，正态分布会体现的非常明显\n",
        "plt.hist(torch.randn(10**6).numpy(), 100);"
      ],
      "execution_count": 0,
      "outputs": [
        {
          "output_type": "stream",
          "text": [
            "1000000\n"
          ],
          "name": "stdout"
        },
        {
          "output_type": "display_data",
          "data": {
            "image/png": "[encoded data removed]",
            "text/plain": [
              "<Figure size 720x720 with 1 Axes>"
            ]
          },
          "metadata": {
            "tags": []
          }
        }
      ]
    },
    {
      "cell_type": "code",
      "metadata": {
        "id": "YXbzAOhqUH-L",
        "colab_type": "code",
        "outputId": "00b11333-9904-409a-e324-f2f003cd941e",
        "colab": {
          "base_uri": "https://localhost:8080/",
          "height": 52
        }
      },
      "source": [
        "# 创建两个 1x4 的tensor\n",
        "a = torch.Tensor([[1, 2, 3, 4]])\n",
        "b = torch.Tensor([[5, 6, 7, 8]])\n",
        "\n",
        "# 在 0 方向拼接 （即在 Y 方各上拼接）, 会得到 2x4 的矩阵\n",
        "print( torch.cat((a,b), 0))"
      ],
      "execution_count": 0,
      "outputs": [
        {
          "output_type": "stream",
          "text": [
            "tensor([[1., 2., 3., 4.],\n",
            "        [5., 6., 7., 8.]])\n"
          ],
          "name": "stdout"
        }
      ]
    },
    {
      "cell_type": "code",
      "metadata": {
        "id": "HLQv2yN3UeRz",
        "colab_type": "code",
        "outputId": "251cfc23-ecf4-4bb2-dd46-617601063cce",
        "colab": {
          "base_uri": "https://localhost:8080/",
          "height": 35
        }
      },
      "source": [
        "# 在 1 方向拼接 （即在 X 方各上拼接）, 会得到 1x8 的矩阵\n",
        "print( torch.cat((a,b), 1))"
      ],
      "execution_count": 0,
      "outputs": [
        {
          "output_type": "stream",
          "text": [
            "tensor([[1., 2., 3., 4., 5., 6., 7., 8.]])\n"
          ],
          "name": "stdout"
        }
      ]
    },
    {
      "cell_type": "markdown",
      "metadata": {
        "id": "m6UoqOX3Un9z",
        "colab_type": "text"
      },
      "source": [
        "## One more thing ~\n",
        "\n",
        "其实基本操作还有非常非常多，详细可以查阅官方文档。"
      ]
    }
  ]
}